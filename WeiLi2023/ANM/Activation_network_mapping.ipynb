{
  "cells": [
    {
      "cell_type": "markdown",
      "metadata": {},
      "source": [
        "\n",
        "# Producing single subject maps of seed-to-voxel correlation\n",
        "\n",
        "This example shows how to produce seed-to-:term:`voxel` correlation maps\n",
        "for a single subject based on movie-watching :term:`fMRI` scans.\n",
        "These maps depict the temporal correlation of a **seed region** with the\n",
        "**rest of the brain**.\n",
        "\n",
        "This example is an advanced one that requires manipulating the data with numpy.\n",
        "Note the difference between images, that lie in brain space, and the\n",
        "numpy array, corresponding to the data inside the mask.\n",
        "\n",
        "See also `for a similar example using cortical surface input data\n",
        "<sphx_glr_auto_examples_01_plotting_plot_surf_stat_map.py>`.\n",
        "\n",
        "Author: Franz Liem\n",
        "\n",
        ".. include:: ../../../examples/masker_note.rst\n"
      ]
    },
    {
      "cell_type": "markdown",
      "metadata": {},
      "source": [
        "## Getting the data\n",
        "\n",
        "We will work with the first subject\n",
        "of the brain development :term:`fMRI` data set.\n",
        "dataset.func is a list of filenames. We select the 1st (0-based)\n",
        "subject by indexing with [0]).\n",
        "\n"
      ]
    },
    {
      "cell_type": "code",
      "execution_count": null,
      "metadata": {
        "collapsed": false
      },
      "outputs": [],
      "source": [
        "from nilearn import datasets, plotting\n",
        "\n",
        "dataset = datasets.fetch_development_fmri(n_subjects=1)\n",
        "func_filename = dataset.func[0]\n",
        "confound_filename = dataset.confounds[0]"
      ]
    },
    {
      "cell_type": "markdown",
      "metadata": {},
      "source": [
        "Note that func_filename and confound_filename are strings pointing to\n",
        "files on your hard drive.\n",
        "\n"
      ]
    },
    {
      "cell_type": "code",
      "execution_count": null,
      "metadata": {
        "collapsed": false
      },
      "outputs": [],
      "source": [
        "print(func_filename)\n",
        "print(confound_filename)"
      ]
    },
    {
      "cell_type": "markdown",
      "metadata": {},
      "source": [
        "## Time series extraction\n",
        "\n",
        "We are going to extract signals from the functional time series in two\n",
        "steps. First we will extract the mean signal within the **seed region of\n",
        "interest**.\n",
        "Second, we will extract the **brain-wide voxel-wise time series**.\n",
        "\n",
        "We will be working with one seed sphere in the Posterior Cingulate Cortex\n",
        "(PCC), considered part of the Default Mode Network.\n",
        "\n"
      ]
    },
    {
      "cell_type": "code",
      "execution_count": null,
      "metadata": {
        "collapsed": false
      },
      "outputs": [],
      "source": [
        "pcc_coords = [(0, -52, 18)]"
      ]
    },
    {
      "cell_type": "markdown",
      "metadata": {},
      "source": [
        "We use :class:`nilearn.maskers.NiftiSpheresMasker` to extract the\n",
        "**time series from the functional imaging within the sphere**. The\n",
        "sphere is centered at pcc_coords and will have the radius we pass the\n",
        "NiftiSpheresMasker function (here 8 mm).\n",
        "\n",
        "The extraction will also detrend, standardize, and bandpass filter the data.\n",
        "This will create a NiftiSpheresMasker object.\n",
        "\n"
      ]
    },
    {
      "cell_type": "code",
      "execution_count": null,
      "metadata": {
        "collapsed": false
      },
      "outputs": [],
      "source": [
        "from nilearn.maskers import NiftiSpheresMasker\n",
        "\n",
        "seed_masker = NiftiSpheresMasker(\n",
        "    pcc_coords,\n",
        "    radius=8,\n",
        "    detrend=True,\n",
        "    standardize=\"zscore_sample\",\n",
        "    standardize_confounds=\"zscore_sample\",\n",
        "    low_pass=0.1,\n",
        "    high_pass=0.01,\n",
        "    t_r=2,\n",
        "    memory=\"nilearn_cache\",\n",
        "    memory_level=1,\n",
        "    verbose=0,\n",
        ")"
      ]
    },
    {
      "cell_type": "markdown",
      "metadata": {},
      "source": [
        "Then we extract the mean time series within the seed region while\n",
        "regressing out the confounds that\n",
        "can be found in the dataset's csv file\n",
        "\n"
      ]
    },
    {
      "cell_type": "code",
      "execution_count": null,
      "metadata": {
        "collapsed": false
      },
      "outputs": [],
      "source": [
        "seed_time_series = seed_masker.fit_transform(\n",
        "    func_filename, confounds=[confound_filename]\n",
        ")"
      ]
    },
    {
      "cell_type": "markdown",
      "metadata": {},
      "source": [
        "Next, we can proceed similarly for the **brain-wide voxel-wise time\n",
        "series**, using :class:`nilearn.maskers.NiftiMasker` with the same input\n",
        "arguments as in the seed_masker in addition to smoothing with a 6 mm kernel\n",
        "\n"
      ]
    },
    {
      "cell_type": "code",
      "execution_count": null,
      "metadata": {
        "collapsed": false
      },
      "outputs": [],
      "source": [
        "from nilearn.maskers import NiftiMasker\n",
        "\n",
        "brain_masker = NiftiMasker(\n",
        "    smoothing_fwhm=6,\n",
        "    detrend=True,\n",
        "    standardize=\"zscore_sample\",\n",
        "    standardize_confounds=\"zscore_sample\",\n",
        "    low_pass=0.1,\n",
        "    high_pass=0.01,\n",
        "    t_r=2,\n",
        "    memory=\"nilearn_cache\",\n",
        "    memory_level=1,\n",
        "    verbose=0,\n",
        ")"
      ]
    },
    {
      "cell_type": "markdown",
      "metadata": {},
      "source": [
        "Then we extract the brain-wide voxel-wise time series while regressing\n",
        "out the confounds as before\n",
        "\n"
      ]
    },
    {
      "cell_type": "code",
      "execution_count": null,
      "metadata": {
        "collapsed": false
      },
      "outputs": [],
      "source": [
        "brain_time_series = brain_masker.fit_transform(\n",
        "    func_filename, confounds=[confound_filename]\n",
        ")"
      ]
    },
    {
      "cell_type": "markdown",
      "metadata": {},
      "source": [
        "We can now inspect the extracted time series. Note that the **seed time\n",
        "series** is an array with shape n_volumes, 1), while the\n",
        "**brain time series** is an array with shape (n_volumes, n_voxels).\n",
        "\n"
      ]
    },
    {
      "cell_type": "code",
      "execution_count": null,
      "metadata": {
        "collapsed": false
      },
      "outputs": [],
      "source": [
        "print(f\"Seed time series shape: ({seed_time_series.shape})\")\n",
        "print(f\"Brain time series shape: ({brain_time_series.shape})\")"
      ]
    },
    {
      "cell_type": "markdown",
      "metadata": {},
      "source": [
        "We can plot the **seed time series**.\n",
        "\n"
      ]
    },
    {
      "cell_type": "code",
      "execution_count": null,
      "metadata": {
        "collapsed": false
      },
      "outputs": [],
      "source": [
        "import matplotlib.pyplot as plt\n",
        "\n",
        "plt.plot(seed_time_series)\n",
        "plt.title(\"Seed time series (Posterior cingulate cortex)\")\n",
        "plt.xlabel(\"Scan number\")\n",
        "plt.ylabel(\"Normalized signal\")\n",
        "plt.tight_layout()"
      ]
    },
    {
      "cell_type": "markdown",
      "metadata": {},
      "source": [
        "Exemplarily, we can also select 5 random voxels from the **brain-wide\n",
        "data** and plot the time series from.\n",
        "\n"
      ]
    },
    {
      "cell_type": "code",
      "execution_count": null,
      "metadata": {
        "collapsed": false
      },
      "outputs": [],
      "source": [
        "plt.plot(brain_time_series[:, [10, 45, 100, 5000, 10000]])\n",
        "plt.title(\"Time series from 5 random voxels\")\n",
        "plt.xlabel(\"Scan number\")\n",
        "plt.ylabel(\"Normalized signal\")\n",
        "plt.tight_layout()"
      ]
    },
    {
      "cell_type": "markdown",
      "metadata": {},
      "source": [
        "## Performing the seed-to-voxel correlation analysis\n",
        "\n",
        "Now that we have two arrays (**sphere signal**: (n_volumes, 1),\n",
        "**brain-wide voxel-wise signal** (n_volumes, n_voxels)), we can correlate\n",
        "the **seed signal** with the **signal of each voxel**. The dot product of\n",
        "the two arrays will give us this correlation. Note that the signals have\n",
        "been variance-standardized during extraction. To have them standardized to\n",
        "norm unit, we further have to divide the result by the length of the time\n",
        "series.\n",
        "\n"
      ]
    },
    {
      "cell_type": "code",
      "execution_count": null,
      "metadata": {
        "collapsed": false
      },
      "outputs": [],
      "source": [
        "import numpy as np\n",
        "\n",
        "seed_to_voxel_correlations = (\n",
        "    np.dot(brain_time_series.T, seed_time_series) / seed_time_series.shape[0]\n",
        ")"
      ]
    },
    {
      "cell_type": "markdown",
      "metadata": {},
      "source": [
        "The resulting array will contain a value representing the correlation\n",
        "values between the signal in the **seed region** of interest and **each\n",
        "voxel's signal**, and will be of shape (n_voxels, 1). The correlation\n",
        "values can potentially range between -1 and 1.\n",
        "\n"
      ]
    },
    {
      "cell_type": "code",
      "execution_count": null,
      "metadata": {
        "collapsed": false
      },
      "outputs": [],
      "source": [
        "print(\n",
        "    \"Seed-to-voxel correlation shape: (%s, %s)\"\n",
        "    % seed_to_voxel_correlations.shape\n",
        ")\n",
        "print(\n",
        "    \"Seed-to-voxel correlation: min = %.3f; max = %.3f\"\n",
        "    % (seed_to_voxel_correlations.min(), seed_to_voxel_correlations.max())\n",
        ")"
      ]
    },
    {
      "cell_type": "markdown",
      "metadata": {},
      "source": [
        "## Plotting the seed-to-voxel correlation map\n",
        "We can now plot the seed-to-voxel correlation map and perform thresholding\n",
        "to only show values more extreme than +/- 0.5. Before displaying,\n",
        "we need to create an in memory Nifti image object.\n",
        "Furthermore, we can display the location of the seed with a sphere and\n",
        "set the cross to the center of the seed region of interest.\n",
        "\n"
      ]
    },
    {
      "cell_type": "code",
      "execution_count": null,
      "metadata": {
        "collapsed": false
      },
      "outputs": [],
      "source": [
        "seed_to_voxel_correlations_img = brain_masker.inverse_transform(\n",
        "    seed_to_voxel_correlations.T\n",
        ")\n",
        "display = plotting.plot_stat_map(\n",
        "    seed_to_voxel_correlations_img,\n",
        "    threshold=0.5,\n",
        "    vmax=1,\n",
        "    cut_coords=pcc_coords[0],\n",
        "    title=\"Seed-to-voxel correlation (PCC seed)\",\n",
        ")\n",
        "display.add_markers(\n",
        "    marker_coords=pcc_coords, marker_color=\"g\", marker_size=300\n",
        ")\n",
        "# At last, we save the plot as pdf.\n",
        "from pathlib import Path\n",
        "\n",
        "output_dir = Path.cwd() / \"results\" / \"plot_seed_to_voxel_correlation\"\n",
        "output_dir.mkdir(exist_ok=True, parents=True)\n",
        "print(f\"Output will be saved to: {output_dir}\")\n",
        "\n",
        "display.savefig(output_dir / \"pcc_seed_correlation.pdf\")"
      ]
    },
    {
      "cell_type": "markdown",
      "metadata": {},
      "source": [
        "## Fisher-z transformation and save nifti\n",
        "Finally, we can Fisher-z transform the data to achieve a normal distribution.\n",
        "The transformed array can now have values more extreme than +/- 1.\n",
        "\n"
      ]
    },
    {
      "cell_type": "code",
      "execution_count": null,
      "metadata": {
        "collapsed": false
      },
      "outputs": [],
      "source": [
        "seed_to_voxel_correlations_fisher_z = np.arctanh(seed_to_voxel_correlations)\n",
        "print(\n",
        "    \"Seed-to-voxel correlation Fisher-z transformed: \"\n",
        "    f\"min = {seed_to_voxel_correlations_fisher_z.min():.3f}; \"\n",
        "    f\"max = {seed_to_voxel_correlations_fisher_z.max():.3f}f\"\n",
        ")"
      ]
    },
    {
      "cell_type": "markdown",
      "metadata": {},
      "source": [
        "Eventually, we can transform the correlation array back to a Nifti image\n",
        "object, that we can save.\n",
        "\n"
      ]
    },
    {
      "cell_type": "code",
      "execution_count": null,
      "metadata": {
        "collapsed": false
      },
      "outputs": [],
      "source": [
        "seed_to_voxel_correlations_fisher_z_img = brain_masker.inverse_transform(\n",
        "    seed_to_voxel_correlations_fisher_z.T\n",
        ")\n",
        "seed_to_voxel_correlations_fisher_z_img.to_filename(\n",
        "    output_dir / \"pcc_seed_correlation_z.nii.gz\"\n",
        ")"
      ]
    },
    {
      "cell_type": "markdown",
      "metadata": {},
      "source": [
        "# One-smaple t-test"
      ]
    },
    {
      "cell_type": "code",
      "execution_count": 55,
      "metadata": {},
      "outputs": [],
      "source": [
        "import os\n",
        "import numpy as np\n",
        "import nibabel as nib\n",
        "import scipy\n",
        "input_dir = rf\" \"\n",
        "mask_file = rf\"tpl-MNI152NLin6Asym_res-02_desc-brain_mask.nii.gz\"\n",
        "\n",
        "mask = nib.load(mask_file)\n",
        "mask_shape = mask.shape\n",
        "mask_data = mask.get_fdata()\n",
        "mask_data[mask_data != 0] = 1\n",
        "subject_data = np.zeros((mask_shape[0]*mask_shape[1]*mask_shape[2],len(os.listdir(input_dir))),np.float32)\n",
        "\n",
        "for index,subject in enumerate(os.listdir(input_dir)):\n",
        "    \n",
        "    subject_filename = os.path.join(input_dir, subject)\n",
        "    fdata = nib.load(subject_filename).get_fdata()\n",
        "    subject_data[:,index] = np.reshape(fdata,newshape=(mask_shape[0]*mask_shape[1]*mask_shape[2]))\n",
        "    \n",
        "one_sample_results = scipy.stats.ttest_1samp(subject_data.T,0).statistic\n",
        "reshape_one_sample_results = np.reshape(one_sample_results, newshape=(mask_shape[0], mask_shape[1], mask_shape[2]))\n"
      ]
    },
    {
      "cell_type": "markdown",
      "metadata": {},
      "source": [
        "### we can transform the one-sample t-value to t-map"
      ]
    },
    {
      "cell_type": "code",
      "execution_count": 56,
      "metadata": {},
      "outputs": [],
      "source": [
        "output_dir = rf\" \"\n",
        "masked_nifti = nib.Nifti1Image(reshape_one_sample_results*mask_data, mask.affine, mask.header)\n",
        "nib.save(masked_nifti,filename=os.path.join(output_dir,'t_map.nii.gz'))"
      ]
    },
    {
      "cell_type": "markdown",
      "metadata": {},
      "source": [
        "# Overlapping section"
      ]
    },
    {
      "cell_type": "markdown",
      "metadata": {},
      "source": [
        "###  First, each experiment-level t-map was thresholded at t > (?)\n"
      ]
    },
    {
      "cell_type": "code",
      "execution_count": 79,
      "metadata": {},
      "outputs": [],
      "source": [
        "thresholded = 3\n",
        "input_dir = rf\" \"\n",
        "thresholded_data = np.zeros((mask_shape[0], mask_shape[1], mask_shape[2], len(os.listdir(input_dir))), np.int16)\n",
        "for index,tmap in enumerate(os.listdir(input_dir)):\n",
        "    \n",
        "    tmap_filename = os.path.join(input_dir, tmap)\n",
        "    \n",
        "    tvalue = nib.load(tmap_filename).get_fdata()\n",
        "    tvalue_new = tvalue.copy()\n",
        "    \n",
        "    tvalue_new[tvalue>thresholded] = 1\n",
        "    tvalue_new[tvalue<thresholded] = 0\n",
        "    \n",
        "    thresholded_data[:,:,:,index] = tvalue_new\n"
      ]
    },
    {
      "cell_type": "markdown",
      "metadata": {},
      "source": [
        "###  Second, all binarized maps were overlapped and thresholded at 60% to create a group-level network overlap map"
      ]
    },
    {
      "cell_type": "code",
      "execution_count": 95,
      "metadata": {},
      "outputs": [
        {
          "data": {
            "image/png": "[encoded data removed]",
            "text/plain": [
              "<Figure size 730x260 with 5 Axes>"
            ]
          },
          "metadata": {},
          "output_type": "display_data"
        }
      ],
      "source": [
        "\n",
        "overlap = np.sum(thresholded_data,axis=3)\n",
        "show_thresholded = 0.6\n",
        "\n",
        "vmax = np.max(overlap)\n",
        "threshold = vmax*show_thresholded\n",
        "\n",
        "import nibabel as nib\n",
        "from nilearn import plotting\n",
        "\n",
        "atlas_filename = rf\"D:\\GitRepository\\nmda\\Output\\tpl-MNI152NLin6Asym_res-02_desc-brain_mask.nii.gz\"\n",
        "mask = nib.load(atlas_filename)\n",
        "mask_data = mask.get_fdata()\n",
        "mask_data[mask_data!=0] = 1\n",
        "overlap_img = nib.Nifti1Image(overlap, mask.affine, mask.header)\n",
        "\n",
        "\n",
        "\n",
        "coords = [(-10,  36, -12)]\n",
        "\n",
        "display = plotting.plot_stat_map(\n",
        "    overlap_img,\n",
        "    threshold=threshold,\n",
        "    vmax=vmax,\n",
        "    cut_coords=coords[0],\n",
        "    title=\"Overlapped map\",\n",
        "    resampling_interpolation='nearest',\n",
        "    cmap='RdBu_r'\n",
        ")\n",
        "display.add_markers(\n",
        "    marker_coords=coords, marker_color=\"g\", marker_size=30\n",
        ")"
      ]
    },
    {
      "cell_type": "markdown",
      "metadata": {},
      "source": [
        "### Finally, save the overlap map"
      ]
    },
    {
      "cell_type": "code",
      "execution_count": 91,
      "metadata": {},
      "outputs": [
        {
          "data": {
            "text/plain": [
              "2"
            ]
          },
          "execution_count": 91,
          "metadata": {},
          "output_type": "execute_result"
        }
      ],
      "source": [
        "output_filename = rf\"overlap.nii.gz\"\n",
        "nib.save(overlap_img,output_filename)"
      ]
    }
  ],
  "metadata": {
    "kernelspec": {
      "display_name": "Python 3",
      "language": "python",
      "name": "python3"
    },
    "language_info": {
      "codemirror_mode": {
        "name": "ipython",
        "version": 3
      },
      "file_extension": ".py",
      "mimetype": "text/x-python",
      "name": "python",
      "nbconvert_exporter": "python",
      "pygments_lexer": "ipython3",
      "version": "3.9.16"
    }
  },
  "nbformat": 4,
  "nbformat_minor": 0
}
